{
 "cells": [
  {
   "cell_type": "code",
   "execution_count": 1,
   "metadata": {},
   "outputs": [],
   "source": [
    "import numpy as np"
   ]
  },
  {
   "cell_type": "code",
   "execution_count": 3,
   "metadata": {},
   "outputs": [
    {
     "data": {
      "text/plain": [
       "array([[ 7,  0,  2,  1],\n",
       "       [ 1,  7,  1,  2],\n",
       "       [ 8,  1, 12,  6],\n",
       "       [ 1,  9,  2,  8]])"
      ]
     },
     "execution_count": 3,
     "metadata": {},
     "output_type": "execute_result"
    }
   ],
   "source": [
    "val1=np.array([[7,0,2,1],\n",
    "               [1,7,1,2],\n",
    "               [8,1,12,6],\n",
    "               [1,9,2,8]])\n",
    "val1"
   ]
  },
  {
   "cell_type": "code",
   "execution_count": 4,
   "metadata": {},
   "outputs": [
    {
     "data": {
      "text/plain": [
       "array([[13,  0,  4,  0],\n",
       "       [ 1, 14,  1,  2],\n",
       "       [ 1,  0, 12,  3],\n",
       "       [ 2,  3,  0, 12]])"
      ]
     },
     "execution_count": 4,
     "metadata": {},
     "output_type": "execute_result"
    }
   ],
   "source": [
    "val2=np.array([[13,0,4,0],\n",
    "               [1,14,1,2],\n",
    "               [1,0,12,3],\n",
    "               [2,3,0,12]])\n",
    "val2"
   ]
  },
  {
   "cell_type": "code",
   "execution_count": 5,
   "metadata": {},
   "outputs": [
    {
     "data": {
      "text/plain": [
       "array([[14,  1,  2,  0],\n",
       "       [ 1, 11,  0,  8],\n",
       "       [ 1,  1, 14,  2],\n",
       "       [ 1,  4,  1,  7]])"
      ]
     },
     "execution_count": 5,
     "metadata": {},
     "output_type": "execute_result"
    }
   ],
   "source": [
    "val3=np.array([[14,1,2,0],\n",
    "               [1,11,0,8],\n",
    "               [1,1,14,2],\n",
    "               [1,4,1,7]])\n",
    "val3"
   ]
  },
  {
   "cell_type": "code",
   "execution_count": 6,
   "metadata": {},
   "outputs": [
    {
     "data": {
      "text/plain": [
       "array([[12,  0,  2,  0],\n",
       "       [ 2, 12,  0,  8],\n",
       "       [ 3,  2, 14,  4],\n",
       "       [ 0,  3,  1,  5]])"
      ]
     },
     "execution_count": 6,
     "metadata": {},
     "output_type": "execute_result"
    }
   ],
   "source": [
    "val4=np.array([[12,0,2,0],\n",
    "               [2,12,0,8],\n",
    "               [3,2,14,4],\n",
    "               [0,3,1,5]])\n",
    "val4"
   ]
  },
  {
   "cell_type": "code",
   "execution_count": 8,
   "metadata": {},
   "outputs": [
    {
     "data": {
      "text/plain": [
       "array([[ 8,  3,  4,  1],\n",
       "       [ 6,  8,  0,  5],\n",
       "       [ 0,  0, 12,  0],\n",
       "       [ 3,  8,  1, 11]])"
      ]
     },
     "execution_count": 8,
     "metadata": {},
     "output_type": "execute_result"
    }
   ],
   "source": [
    "val5=np.array([[8,3,4,1],\n",
    "               [6,8,0,5],\n",
    "               [0,0,12,0],\n",
    "               [3,8,1,11]])\n",
    "val5"
   ]
  },
  {
   "cell_type": "code",
   "execution_count": 13,
   "metadata": {},
   "outputs": [
    {
     "data": {
      "text/plain": [
       "68"
      ]
     },
     "execution_count": 13,
     "metadata": {},
     "output_type": "execute_result"
    }
   ],
   "source": []
  },
  {
   "cell_type": "code",
   "execution_count": 18,
   "metadata": {},
   "outputs": [],
   "source": [
    "y=[]\n",
    "for i in [val1,val2,val3,val4,val5]:\n",
    "    score=0\n",
    "    for j in range(4):\n",
    "        score+=i[j][j]\n",
    "        score+=i[(j+2)%4][j]\n",
    "    y.append(score/sum(sum(i)))"
   ]
  },
  {
   "cell_type": "code",
   "execution_count": 19,
   "metadata": {},
   "outputs": [
    {
     "data": {
      "text/plain": [
       "[0.8088235294117647,\n",
       " 0.8970588235294118,\n",
       " 0.8970588235294118,\n",
       " 0.8676470588235294,\n",
       " 0.8]"
      ]
     },
     "execution_count": 19,
     "metadata": {},
     "output_type": "execute_result"
    }
   ],
   "source": [
    "y"
   ]
  },
  {
   "cell_type": "code",
   "execution_count": null,
   "metadata": {},
   "outputs": [],
   "source": [
    "impo"
   ]
  },
  {
   "cell_type": "code",
   "execution_count": 15,
   "metadata": {},
   "outputs": [
    {
     "data": {
      "text/plain": [
       "89.70588235294117"
      ]
     },
     "execution_count": 15,
     "metadata": {},
     "output_type": "execute_result"
    }
   ],
   "source": [
    "score=0\n",
    "for i in range(4):\n",
    "    score+=val2[i][i]\n",
    "    score+=val2[(i+2)%4][i]\n",
    "score/sum(sum(val2))*100"
   ]
  }
 ],
 "metadata": {
  "kernelspec": {
   "display_name": "Python 3",
   "language": "python",
   "name": "python3"
  },
  "language_info": {
   "codemirror_mode": {
    "name": "ipython",
    "version": 3
   },
   "file_extension": ".py",
   "mimetype": "text/x-python",
   "name": "python",
   "nbconvert_exporter": "python",
   "pygments_lexer": "ipython3",
   "version": "3.11.9"
  }
 },
 "nbformat": 4,
 "nbformat_minor": 2
}
