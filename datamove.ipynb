{
 "cells": [
  {
   "cell_type": "markdown",
   "metadata": {},
   "source": [
    "# 데이터 이동"
   ]
  },
  {
   "cell_type": "code",
   "execution_count": 8,
   "metadata": {},
   "outputs": [
    {
     "data": {
      "text/plain": [
       "'dataset\\\\train'"
      ]
     },
     "execution_count": 8,
     "metadata": {},
     "output_type": "execute_result"
    }
   ],
   "source": [
    "import shutil\n",
    "import os\n",
    "dataset=r'dataset\\train'\n",
    "dataset"
   ]
  },
  {
   "cell_type": "markdown",
   "metadata": {},
   "source": [
    "## ShowMeTheColor 데이터 이동"
   ]
  },
  {
   "cell_type": "code",
   "execution_count": 9,
   "metadata": {},
   "outputs": [],
   "source": [
    "path=r'ShowMeTheColor\\res'\n",
    "for folder  in ['test','train']:\n",
    "    folder_path = os.path.join(path, folder)\n",
    "    for item in os.listdir(folder_path):\n",
    "        item_path = os.path.join(folder_path, item)\n",
    "        for img in os.listdir(item_path):\n",
    "          shutil.move(os.path.join(item_path,img),os.path.join(dataset,item,img))"
   ]
  },
  {
   "cell_type": "markdown",
   "metadata": {},
   "source": [
    "## Color-Analysis-1 데이터 이동"
   ]
  },
  {
   "cell_type": "code",
   "execution_count": 11,
   "metadata": {},
   "outputs": [],
   "source": [
    "path=r'Color-Analysis-1'\n",
    "for folder  in ['test','train','valid']:\n",
    "    folder_path = os.path.join(path, folder)\n",
    "    for item in os.listdir(folder_path):\n",
    "        item=item\n",
    "        item_path = os.path.join(folder_path, item)\n",
    "        for img in os.listdir(item_path):\n",
    "            if item==\"Autumn\":\n",
    "                item='fall'\n",
    "            shutil.move(os.path.join(item_path,img),os.path.join(dataset,item,img))"
   ]
  },
  {
   "cell_type": "markdown",
   "metadata": {},
   "source": [
    "## choijungahpersonal_color 데이터 이동"
   ]
  },
  {
   "cell_type": "code",
   "execution_count": 17,
   "metadata": {},
   "outputs": [
    {
     "data": {
      "text/plain": [
       "['jennnyautumn.jpeg',\n",
       " 'leehyoleeautumn.jpeg',\n",
       " 'shinautumn.jpeg',\n",
       " 'sungkyengautumn.jpeg']"
      ]
     },
     "execution_count": 17,
     "metadata": {},
     "output_type": "execute_result"
    }
   ],
   "source": [
    "os.listdir(r'choijungahpersonal_color\\images\\autumn')"
   ]
  },
  {
   "cell_type": "code",
   "execution_count": 26,
   "metadata": {},
   "outputs": [
    {
     "data": {
      "text/plain": [
       "'choijungahpersonal_color\\\\images\\\\winter\\\\Winter-4_jpeg.rf.a7248dc16ef277a4f6c7708a29391065.jpg'"
      ]
     },
     "execution_count": 26,
     "metadata": {},
     "output_type": "execute_result"
    }
   ],
   "source": [
    "os.path.join(folder_path,img)"
   ]
  },
  {
   "cell_type": "code",
   "execution_count": 27,
   "metadata": {},
   "outputs": [
    {
     "data": {
      "text/plain": [
       "'dataset\\\\train\\\\limgiyeonwinter.jpeg\\\\Winter-4_jpeg.rf.a7248dc16ef277a4f6c7708a29391065.jpg'"
      ]
     },
     "execution_count": 27,
     "metadata": {},
     "output_type": "execute_result"
    }
   ],
   "source": [
    "os.path.join(dataset,item,img)"
   ]
  },
  {
   "cell_type": "code",
   "execution_count": 35,
   "metadata": {},
   "outputs": [],
   "source": [
    "path=r'choijungahpersonal_color\\images'\n",
    "for item in os.listdir(path):\n",
    "    item_path= os.path.join(path, item)\n",
    "    for img in os.listdir(item_path):\n",
    "        if item==\"autumn\":\n",
    "            item='fall'\n",
    "        shutil.move(os.path.join(item_path,img),os.path.join(dataset,item,img))"
   ]
  },
  {
   "cell_type": "code",
   "execution_count": 34,
   "metadata": {},
   "outputs": [
    {
     "name": "stdout",
     "output_type": "stream",
     "text": [
      "train: 봄 웜톤 ➜ spring\n",
      "train: 여름 쿨톤 ➜ summer\n",
      "train: 가을 웜톤 ➜ fall\n",
      "train: 겨울 쿨톤 ➜ winter\n",
      "valid: 봄 웜톤 ➜ spring\n",
      "valid: 여름 쿨톤 ➜ summer\n",
      "valid: 가을 웜톤 ➜ fall\n",
      "valid: 겨울 쿨톤 ➜ winter\n",
      "test: 봄 웜톤 ➜ spring\n",
      "test: 여름 쿨톤 ➜ summer\n",
      "test: 가을 웜톤 ➜ fall\n",
      "test: 겨울 쿨톤 ➜ winter\n"
     ]
    }
   ],
   "source": [
    "rename_dict = {\n",
    "    '봄 웜톤':'spring',\n",
    "    '여름 쿨톤':'summer',\n",
    "     '가을 웜톤':'fall',\n",
    "     '겨울 쿨톤':'winter'\n",
    "}\n",
    "\n",
    "for phase in ['train', 'valid','test']:\n",
    "    base_path = os.path.join('dataset', phase)\n",
    "    for old_name, new_name in rename_dict.items():\n",
    "        old_path = os.path.join(base_path, old_name)\n",
    "        new_path = os.path.join(base_path, new_name)\n",
    "        if os.path.exists(old_path):\n",
    "            os.rename(old_path, new_path)\n",
    "            print(f'{phase}: {old_name} ➜ {new_name}')\n"
   ]
  },
  {
   "cell_type": "markdown",
   "metadata": {},
   "source": [
    "# 클래스명 변경"
   ]
  },
  {
   "cell_type": "code",
   "execution_count": 38,
   "metadata": {},
   "outputs": [
    {
     "name": "stdout",
     "output_type": "stream",
     "text": [
      "train: spring ➜ 봄 웜톤\n",
      "train: summer ➜ 여름 쿨톤\n",
      "train: fall ➜ 가을 웜톤\n",
      "train: winter ➜ 겨울 쿨톤\n",
      "valid: spring ➜ 봄 웜톤\n",
      "valid: summer ➜ 여름 쿨톤\n",
      "valid: fall ➜ 가을 웜톤\n",
      "valid: winter ➜ 겨울 쿨톤\n",
      "test: spring ➜ 봄 웜톤\n",
      "test: summer ➜ 여름 쿨톤\n",
      "test: fall ➜ 가을 웜톤\n",
      "test: winter ➜ 겨울 쿨톤\n"
     ]
    }
   ],
   "source": [
    "rename_dict = {\n",
    "    'spring': '봄 웜톤',\n",
    "    'summer': '여름 쿨톤',\n",
    "    'fall': '가을 웜톤',\n",
    "    'winter': '겨울 쿨톤'\n",
    "}\n",
    "\n",
    "for phase in ['train', 'valid','test']:\n",
    "    base_path = os.path.join('dataset', phase)\n",
    "    for old_name, new_name in rename_dict.items():\n",
    "        old_path = os.path.join(base_path, old_name)\n",
    "        new_path = os.path.join(base_path, new_name)\n",
    "        if os.path.exists(old_path):\n",
    "            os.rename(old_path, new_path)\n",
    "            print(f'{phase}: {old_name} ➜ {new_name}')\n"
   ]
  },
  {
   "cell_type": "markdown",
   "metadata": {},
   "source": [
    "# 데이터 확인"
   ]
  },
  {
   "cell_type": "code",
   "execution_count": 36,
   "metadata": {},
   "outputs": [],
   "source": [
    "import pandas as pd"
   ]
  },
  {
   "cell_type": "code",
   "execution_count": 37,
   "metadata": {},
   "outputs": [
    {
     "data": {
      "text/html": [
       "<div>\n",
       "<style scoped>\n",
       "    .dataframe tbody tr th:only-of-type {\n",
       "        vertical-align: middle;\n",
       "    }\n",
       "\n",
       "    .dataframe tbody tr th {\n",
       "        vertical-align: top;\n",
       "    }\n",
       "\n",
       "    .dataframe thead th {\n",
       "        text-align: right;\n",
       "    }\n",
       "</style>\n",
       "<table border=\"1\" class=\"dataframe\">\n",
       "  <thead>\n",
       "    <tr style=\"text-align: right;\">\n",
       "      <th></th>\n",
       "      <th>갯수</th>\n",
       "    </tr>\n",
       "  </thead>\n",
       "  <tbody>\n",
       "    <tr>\n",
       "      <th>fall</th>\n",
       "      <td>221</td>\n",
       "    </tr>\n",
       "    <tr>\n",
       "      <th>spring</th>\n",
       "      <td>238</td>\n",
       "    </tr>\n",
       "    <tr>\n",
       "      <th>summer</th>\n",
       "      <td>126</td>\n",
       "    </tr>\n",
       "    <tr>\n",
       "      <th>winter</th>\n",
       "      <td>191</td>\n",
       "    </tr>\n",
       "  </tbody>\n",
       "</table>\n",
       "</div>"
      ],
      "text/plain": [
       "         갯수\n",
       "fall    221\n",
       "spring  238\n",
       "summer  126\n",
       "winter  191"
      ]
     },
     "execution_count": 37,
     "metadata": {},
     "output_type": "execute_result"
    }
   ],
   "source": [
    "path=r'dataset/train'\n",
    "data={}\n",
    "for forder in os.listdir(path):\n",
    "    data[forder]=[len(os.listdir(os.path.join(path,forder)))]\n",
    "df=pd.DataFrame(data,index=['갯수']).T\n",
    "df"
   ]
  }
 ],
 "metadata": {
  "kernelspec": {
   "display_name": "Python 3",
   "language": "python",
   "name": "python3"
  },
  "language_info": {
   "codemirror_mode": {
    "name": "ipython",
    "version": 3
   },
   "file_extension": ".py",
   "mimetype": "text/x-python",
   "name": "python",
   "nbconvert_exporter": "python",
   "pygments_lexer": "ipython3",
   "version": "3.11.9"
  }
 },
 "nbformat": 4,
 "nbformat_minor": 2
}
