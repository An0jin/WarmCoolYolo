{
 "cells": [
  {
   "cell_type": "code",
   "execution_count": null,
   "metadata": {},
   "outputs": [],
   "source": [
    "%pip install koreanize-matplotlib ultralytics"
   ]
  },
  {
   "cell_type": "code",
   "execution_count": 2,
   "metadata": {},
   "outputs": [
    {
     "name": "stdout",
     "output_type": "stream",
     "text": [
      "WARNING Ultralytics settings reset to default values. This may be due to a possible problem with your settings or a recent ultralytics package update. \n",
      "View Ultralytics Settings with 'yolo settings' or at 'C:\\Users\\anyou\\AppData\\Roaming\\Ultralytics\\settings.json'\n",
      "Update Settings with 'yolo settings key=value', i.e. 'yolo settings runs_dir=path/to/dir'. For help see https://docs.ultralytics.com/quickstart/#ultralytics-settings.\n"
     ]
    }
   ],
   "source": [
    "import koreanize_matplotlib\n",
    "from ultralytics import YOLO\n",
    "import os\n",
    "import matplotlib.pyplot as plt\n",
    "import seaborn as sns\n",
    "import numpy as np"
   ]
  },
  {
   "cell_type": "markdown",
   "metadata": {},
   "source": [
    "# 작은 모델을 만들고 그걸로 많은 이미지를 분류후 새로 모델을 만들때"
   ]
  },
  {
   "cell_type": "code",
   "execution_count": 12,
   "metadata": {},
   "outputs": [
    {
     "name": "stdout",
     "output_type": "stream",
     "text": [
      "Ultralytics 8.3.98  Python-3.11.9 torch-2.4.1+cpu CPU (Intel Core(TM) Ultra 7 155H)\n",
      "YOLO11n-cls summary (fused): 47 layers, 1,531,148 parameters, 0 gradients, 3.2 GFLOPs\n"
     ]
    },
    {
     "name": "stderr",
     "output_type": "stream",
     "text": [
      "\u001b[34m\u001b[1mval: \u001b[0mScanning D:\\GitHub\\WarmCoolYolo\\test... 68 images, 0 corrupt: 100%|██████████| 68/68 [00:00<?, ?it/s]\n",
      "               classes   top1_acc   top5_acc: 100%|██████████| 5/5 [00:02<00:00,  2.20it/s]\n"
     ]
    },
    {
     "name": "stdout",
     "output_type": "stream",
     "text": [
      "                   all        0.5          1\n",
      "Speed: 0.0ms preprocess, 21.5ms inference, 0.0ms loss, 0.0ms postprocess per image\n",
      "Results saved to \u001b[1mruns\\classify\\val\u001b[0m\n"
     ]
    },
    {
     "data": {
      "text/plain": [
       "{'metrics/accuracy_top1': 0.5, 'metrics/accuracy_top5': 1.0, 'fitness': 0.75}"
      ]
     },
     "execution_count": 12,
     "metadata": {},
     "output_type": "execute_result"
    }
   ],
   "source": [
    "model = YOLO(\"runs/classify/train/weights/best.pt\")\n",
    "results = model.val(data='data.yaml')\n",
    "results.results_dict"
   ]
  },
  {
   "cell_type": "markdown",
   "metadata": {},
   "source": [
    "# 252개의 이미지를 훈련시킬 때\n",
    "[데이터 출처](https://github.com/starbucksdolcelatte/ShowMeTheColor)\n",
    "<table>\n",
    "<tr><th>봄 웜톤</th><td>63</td></tr>\n",
    "<tr><th>가을 웜톤</th><td>63</td></tr>\n",
    "<tr><th>여름 쿨톤</th><td>63</td></tr>\n",
    "<tr><th>겨울 쿨톤</th><td>63</td></tr>\n",
    "</table>"
   ]
  },
  {
   "cell_type": "code",
   "execution_count": 5,
   "metadata": {},
   "outputs": [
    {
     "name": "stdout",
     "output_type": "stream",
     "text": [
      "Ultralytics 8.3.122  Python-3.11.9 torch-2.0.1+cpu CPU (Intel Core(TM) Ultra 7 155H)\n",
      "YOLO11n-cls summary (fused): 47 layers, 1,531,148 parameters, 0 gradients, 3.2 GFLOPs\n",
      "\u001b[34m\u001b[1mval: \u001b[0mFast image access  (ping: 0.00.0 ms, read: 929.3433.1 MB/s, size: 42.4 KB)\n"
     ]
    },
    {
     "name": "stderr",
     "output_type": "stream",
     "text": [
      "\u001b[34m\u001b[1mval: \u001b[0mScanning D:\\GitHub\\WarmCoolYolo\\test... 68 images, 0 corrupt: 100%|██████████| 68/68 [00:00<?, ?it/s]\n",
      "               classes   top1_acc   top5_acc: 100%|██████████| 5/5 [00:03<00:00,  1.44it/s]\n"
     ]
    },
    {
     "name": "stdout",
     "output_type": "stream",
     "text": [
      "                   all       0.75          1\n",
      "Speed: 0.0ms preprocess, 40.1ms inference, 0.0ms loss, 0.0ms postprocess per image\n",
      "Results saved to \u001b[1mD:\\GitHub\\WarmCoolFastapi\\runs\\classify\\val\u001b[0m\n"
     ]
    },
    {
     "data": {
      "text/plain": [
       "{'metrics/accuracy_top1': 0.75, 'metrics/accuracy_top5': 1.0, 'fitness': 0.875}"
      ]
     },
     "execution_count": 5,
     "metadata": {},
     "output_type": "execute_result"
    }
   ],
   "source": [
    "model = YOLO(\"runs/classify/train2/weights/best.pt\")\n",
    "results=model.val(data=\"data.yaml\")\n",
    "results.results_dict"
   ]
  },
  {
   "cell_type": "markdown",
   "metadata": {},
   "source": [
    "# 4516개의 이미지를 훈련시킬 때(클래스 불균형)\n",
    "<table>\n",
    "<tr><th>가을 웜톤</th><td>1140</td></tr>\n",
    "<tr><th>봄 웜톤</th><td>1093</td></tr>\n",
    "<tr><th>여름 쿨톤</th><td>892</td></tr>\n",
    "<tr><th>겨울 쿨톤</th><td>1391</td></tr>\n",
    "</table>"
   ]
  },
  {
   "cell_type": "code",
   "execution_count": 14,
   "metadata": {},
   "outputs": [
    {
     "name": "stdout",
     "output_type": "stream",
     "text": [
      "Ultralytics 8.3.98  Python-3.11.9 torch-2.4.1+cpu CPU (Intel Core(TM) Ultra 7 155H)\n"
     ]
    },
    {
     "name": "stdout",
     "output_type": "stream",
     "text": [
      "YOLO11n-cls summary (fused): 47 layers, 1,531,148 parameters, 0 gradients, 3.2 GFLOPs\n"
     ]
    },
    {
     "name": "stderr",
     "output_type": "stream",
     "text": [
      "\u001b[34m\u001b[1mval: \u001b[0mScanning D:\\GitHub\\WarmCoolYolo\\test... 68 images, 0 corrupt: 100%|██████████| 68/68 [00:00<?, ?it/s]\n",
      "               classes   top1_acc   top5_acc: 100%|██████████| 5/5 [00:02<00:00,  2.28it/s]\n"
     ]
    },
    {
     "name": "stdout",
     "output_type": "stream",
     "text": [
      "                   all      0.676          1\n",
      "Speed: 0.0ms preprocess, 21.1ms inference, 0.0ms loss, 0.0ms postprocess per image\n",
      "Results saved to \u001b[1mruns\\classify\\val3\u001b[0m\n"
     ]
    },
    {
     "data": {
      "text/plain": [
       "{'metrics/accuracy_top1': 0.6764705777168274,\n",
       " 'metrics/accuracy_top5': 1.0,\n",
       " 'fitness': 0.8382352888584137}"
      ]
     },
     "execution_count": 14,
     "metadata": {},
     "output_type": "execute_result"
    }
   ],
   "source": [
    "model = YOLO(\"runs/classify/train3/weights/best.pt\")\n",
    "results=model.val(data=\"data.yaml\")\n",
    "results.results_dict"
   ]
  },
  {
   "cell_type": "markdown",
   "metadata": {},
   "source": [
    "# 전처리후 훈련했을 때\n",
    "<table>\n",
    "<tr><th>가을 웜톤</th><td>488</td></tr>\n",
    "<tr><th>봄 웜톤</th><td>529</td></tr>\n",
    "<tr><th>여름 쿨톤</th><td>401</td></tr>\n",
    "<tr><th>겨울 쿨톤</th><td>533</td></tr>\n",
    "</table>"
   ]
  },
  {
   "cell_type": "code",
   "execution_count": 16,
   "metadata": {},
   "outputs": [
    {
     "name": "stdout",
     "output_type": "stream",
     "text": [
      "Ultralytics 8.3.122  Python-3.11.9 torch-2.0.1+cpu CPU (Intel Core(TM) Ultra 7 155H)\n",
      "YOLO11n-cls summary (fused): 47 layers, 1,531,148 parameters, 0 gradients, 3.2 GFLOPs\n",
      "\u001b[34m\u001b[1mval: \u001b[0mFast image access  (ping: 0.00.0 ms, read: 1765.81059.1 MB/s, size: 110.3 KB)\n"
     ]
    },
    {
     "name": "stderr",
     "output_type": "stream",
     "text": [
      "\u001b[34m\u001b[1mval: \u001b[0mScanning D:\\GitHub\\WarmCoolYolo\\test... 68 images, 0 corrupt: 100%|██████████| 68/68 [00:00<?, ?it/s]\n",
      "               classes   top1_acc   top5_acc: 100%|██████████| 5/5 [00:03<00:00,  1.37it/s]\n"
     ]
    },
    {
     "name": "stdout",
     "output_type": "stream",
     "text": [
      "                   all        0.5          1\n",
      "Speed: 0.0ms preprocess, 41.1ms inference, 0.0ms loss, 0.0ms postprocess per image\n",
      "Results saved to \u001b[1mruns\\classify\\val7\u001b[0m\n"
     ]
    },
    {
     "data": {
      "text/plain": [
       "{'metrics/accuracy_top1': 0.5, 'metrics/accuracy_top5': 1.0, 'fitness': 0.75}"
      ]
     },
     "execution_count": 16,
     "metadata": {},
     "output_type": "execute_result"
    }
   ],
   "source": [
    "model = YOLO(\"runs/classify/train4/weights/best.pt\")\n",
    "results=model.val(data=\"data.yaml\",            \n",
    "                  project=r'./runs/classify',\n",
    "            name='val'\n",
    "            )\n",
    "results.results_dict"
   ]
  },
  {
   "cell_type": "markdown",
   "metadata": {},
   "source": [
    "# 최고 성능이였던 데이터를 가지고 yolo11s-cls를 써서 훈련시켰을때\n",
    "[데이터 출처](https://github.com/starbucksdolcelatte/ShowMeTheColor)\n",
    "<table>\n",
    "<tr><th>봄 웜톤</th><td>63</td></tr>\n",
    "<tr><th>가을 웜톤</th><td>63</td></tr>\n",
    "<tr><th>여름 쿨톤</th><td>63</td></tr>\n",
    "<tr><th>겨울 쿨톤</th><td>63</td></tr>\n",
    "</table>"
   ]
  },
  {
   "cell_type": "code",
   "execution_count": 6,
   "metadata": {},
   "outputs": [
    {
     "name": "stdout",
     "output_type": "stream",
     "text": [
      "Ultralytics 8.3.122  Python-3.11.9 torch-2.0.1+cpu CPU (Intel Core(TM) Ultra 7 155H)\n",
      "YOLO11s-cls summary (fused): 47 layers, 5,439,252 parameters, 0 gradients, 12.0 GFLOPs\n",
      "\u001b[34m\u001b[1mval: \u001b[0mFast image access  (ping: 0.00.0 ms, read: 65.062.6 MB/s, size: 42.4 KB)\n"
     ]
    },
    {
     "name": "stderr",
     "output_type": "stream",
     "text": [
      "\u001b[34m\u001b[1mval: \u001b[0mScanning D:\\GitHub\\WarmCoolYolo\\test... 68 images, 0 corrupt: 100%|██████████| 68/68 [00:00<?, ?it/s]\n",
      "               classes   top1_acc   top5_acc: 100%|██████████| 5/5 [00:07<00:00,  1.55s/it]\n"
     ]
    },
    {
     "name": "stdout",
     "output_type": "stream",
     "text": [
      "                   all      0.574          1\n",
      "Speed: 0.0ms preprocess, 97.2ms inference, 0.0ms loss, 0.0ms postprocess per image\n",
      "Results saved to \u001b[1mruns\\classify\\val5\u001b[0m\n"
     ]
    },
    {
     "data": {
      "text/plain": [
       "{'metrics/accuracy_top1': 0.5735294222831726,\n",
       " 'metrics/accuracy_top5': 1.0,\n",
       " 'fitness': 0.7867647111415863}"
      ]
     },
     "execution_count": 6,
     "metadata": {},
     "output_type": "execute_result"
    }
   ],
   "source": [
    "model = YOLO(\"runs/classify/train5/weights/best.pt\")\n",
    "results=model.val(data=\"data.yaml\",            \n",
    "                  project=r'./runs/classify',\n",
    "            name='val'\n",
    "            )\n",
    "results.results_dict"
   ]
  },
  {
   "cell_type": "markdown",
   "metadata": {},
   "source": [
    "# 전처리한 데이터를 웜톤 쿨톤 분류 모델로만 했을때\n",
    "<table>\n",
    "<tr><th>웜톤</th><td>1017</td></tr>\n",
    "<tr><th>쿨톤</th><td>934</td></tr>\n",
    "</table>"
   ]
  },
  {
   "cell_type": "code",
   "execution_count": null,
   "metadata": {},
   "outputs": [
    {
     "name": "stdout",
     "output_type": "stream",
     "text": [
      "Ultralytics 8.3.122  Python-3.11.9 torch-2.0.1+cpu CPU (Intel Core(TM) Ultra 7 155H)\n",
      "YOLO11n-cls summary (fused): 47 layers, 1,528,586 parameters, 0 gradients, 3.2 GFLOPs\n",
      "\u001b[34m\u001b[1mval: \u001b[0mFast image access  (ping: 0.00.0 ms, read: 191.3153.2 MB/s, size: 110.3 KB)\n"
     ]
    },
    {
     "name": "stderr",
     "output_type": "stream",
     "text": [
      "\u001b[34m\u001b[1mval: \u001b[0mScanning D:\\GitHub\\WarmCoolYolo\\test... 68 images, 0 corrupt: 100%|██████████| 68/68 [00:00<?, ?it/s]\n",
      "               classes   top1_acc   top5_acc: 100%|██████████| 5/5 [00:03<00:00,  1.27it/s]\n"
     ]
    },
    {
     "name": "stdout",
     "output_type": "stream",
     "text": [
      "                   all      0.912          1\n",
      "Speed: 0.0ms preprocess, 43.9ms inference, 0.0ms loss, 0.0ms postprocess per image\n",
      "Results saved to \u001b[1mruns\\classify\\val6\u001b[0m\n"
     ]
    },
    {
     "data": {
      "text/plain": [
       "{'metrics/accuracy_top1': 0.9117646813392639,\n",
       " 'metrics/accuracy_top5': 1.0,\n",
       " 'fitness': 0.955882340669632}"
      ]
     },
     "execution_count": 15,
     "metadata": {},
     "output_type": "execute_result"
    }
   ],
   "source": [
    "model = YOLO(\"runs/classify/train6/weights/best.pt\")\n",
    "results=model.val(data=\"data.yaml\")\n",
    "results.results_dict"
   ]
  },
  {
   "cell_type": "markdown",
   "metadata": {},
   "source": [
    "# 객체 탐지로 변경했을 때"
   ]
  },
  {
   "cell_type": "code",
   "execution_count": 30,
   "metadata": {},
   "outputs": [
    {
     "name": "stdout",
     "output_type": "stream",
     "text": [
      "Ultralytics 8.3.158  Python-3.11.9 torch-2.0.1+cpu CPU (Intel Core(TM) Ultra 7 155H)\n",
      "YOLOv12n summary (fused): 159 layers, 2,557,508 parameters, 0 gradients, 6.3 GFLOPs\n",
      "\u001b[34m\u001b[1mval: \u001b[0mFast image access  (ping: 0.00.0 ms, read: 210.4192.9 MB/s, size: 30.7 KB)\n"
     ]
    },
    {
     "name": "stderr",
     "output_type": "stream",
     "text": [
      "\u001b[34m\u001b[1mval: \u001b[0mScanning D:\\GitHub\\WarmCoolYolo\\Dataset\\valid\\labels.cache... 6498 images, 0 backgrounds, 0 corrupt: 100%|██████████| 6498/6498 [00:00<?, ?it/s]\n",
      "                 Class     Images  Instances      Box(P          R      mAP50  mAP50-95): 100%|██████████| 407/407 [14:06<00:00,  2.08s/it]\n"
     ]
    },
    {
     "name": "stdout",
     "output_type": "stream",
     "text": [
      "                   all       6498       6517      0.779      0.779      0.811      0.582\n",
      "              fallWarm       1862       1881      0.845      0.792      0.832      0.631\n",
      "            springWarm       1539       1539      0.738      0.718      0.757       0.49\n",
      "            summerCool       1501       1501       0.74      0.763      0.798      0.565\n",
      "            winterCool       1596       1596      0.793      0.844      0.855      0.641\n",
      "Speed: 0.9ms preprocess, 123.6ms inference, 0.0ms loss, 0.6ms postprocess per image\n",
      "Results saved to \u001b[1mruns\\detect\\val\u001b[0m\n"
     ]
    },
    {
     "data": {
      "text/plain": [
       "{'metrics/precision(B)': 0.7788936537601095,\n",
       " 'metrics/recall(B)': 0.7791021647478454,\n",
       " 'metrics/mAP50(B)': 0.8108664980211175,\n",
       " 'metrics/mAP50-95(B)': 0.5816691717131104,\n",
       " 'fitness': 0.6045889043439111}"
      ]
     },
     "execution_count": 30,
     "metadata": {},
     "output_type": "execute_result"
    }
   ],
   "source": [
    "model = YOLO(\"runs/detect/train/weights/best.pt\")\n",
    "results=model.val(save=True,iou=0.5,agnostic_nms=True)\n",
    "results.results_dict"
   ]
  },
  {
   "cell_type": "markdown",
   "metadata": {},
   "source": [
    "# open cv 데이터 증강"
   ]
  },
  {
   "cell_type": "code",
   "execution_count": 31,
   "metadata": {},
   "outputs": [
    {
     "name": "stdout",
     "output_type": "stream",
     "text": [
      "Ultralytics 8.3.158  Python-3.11.9 torch-2.0.1+cpu CPU (Intel Core(TM) Ultra 7 155H)\n",
      "YOLOv12n summary (fused): 159 layers, 2,557,508 parameters, 0 gradients, 6.3 GFLOPs\n",
      "\u001b[34m\u001b[1mval: \u001b[0mFast image access  (ping: 0.10.0 ms, read: 89.077.7 MB/s, size: 49.8 KB)\n"
     ]
    },
    {
     "name": "stderr",
     "output_type": "stream",
     "text": [
      "\u001b[34m\u001b[1mval: \u001b[0mScanning D:\\GitHub\\WarmCoolYolo\\Dataset\\valid\\labels.cache... 6498 images, 0 backgrounds, 0 corrupt: 100%|██████████| 6498/6498 [00:00<?, ?it/s]\n",
      "                 Class     Images  Instances      Box(P          R      mAP50  mAP50-95): 100%|██████████| 407/407 [09:58<00:00,  1.47s/it]\n"
     ]
    },
    {
     "name": "stdout",
     "output_type": "stream",
     "text": [
      "                   all       6498       6517      0.866      0.865      0.867      0.646\n",
      "              fallWarm       1862       1881      0.895      0.877      0.896      0.647\n",
      "            springWarm       1539       1539      0.804      0.902      0.844      0.589\n",
      "            summerCool       1501       1501      0.857       0.77      0.793      0.619\n",
      "            winterCool       1596       1596      0.907       0.91      0.936       0.73\n",
      "Speed: 0.7ms preprocess, 85.5ms inference, 0.0ms loss, 0.6ms postprocess per image\n",
      "Results saved to \u001b[1mruns\\detect\\val2\u001b[0m\n"
     ]
    },
    {
     "data": {
      "text/plain": [
       "{'metrics/precision(B)': 0.8657573695598685,\n",
       " 'metrics/recall(B)': 0.864765692111279,\n",
       " 'metrics/mAP50(B)': 0.8670774033883171,\n",
       " 'metrics/mAP50-95(B)': 0.6460624268599777,\n",
       " 'fitness': 0.6681639245128117}"
      ]
     },
     "execution_count": 31,
     "metadata": {},
     "output_type": "execute_result"
    }
   ],
   "source": [
    "model = YOLO(\"runs/detect/train2/weights/best.pt\")\n",
    "results=model.val(save=True,iou=0.5,agnostic_nms=True)\n",
    "results.results_dict"
   ]
  }
 ],
 "metadata": {
  "kernelspec": {
   "display_name": "Python 3",
   "language": "python",
   "name": "python3"
  },
  "language_info": {
   "codemirror_mode": {
    "name": "ipython",
    "version": 3
   },
   "file_extension": ".py",
   "mimetype": "text/x-python",
   "name": "python",
   "nbconvert_exporter": "python",
   "pygments_lexer": "ipython3",
   "version": "3.11.9"
  }
 },
 "nbformat": 4,
 "nbformat_minor": 2
}
