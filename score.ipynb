{
 "cells": [
  {
   "cell_type": "code",
   "execution_count": null,
   "metadata": {},
   "outputs": [],
   "source": [
    "%pip install koreanize-matplotlib ultralytics"
   ]
  },
  {
   "cell_type": "code",
   "execution_count": 2,
   "metadata": {},
   "outputs": [],
   "source": [
    "import koreanize_matplotlib\n",
    "from ultralytics import YOLO"
   ]
  },
  {
   "cell_type": "markdown",
   "metadata": {},
   "source": [
    "# 작은 모델을 만들고 그걸로 많은 이미지를 분류후 새로 모델을 만들때"
   ]
  },
  {
   "cell_type": "code",
   "execution_count": 12,
   "metadata": {},
   "outputs": [
    {
     "name": "stdout",
     "output_type": "stream",
     "text": [
      "Ultralytics 8.3.98  Python-3.11.9 torch-2.4.1+cpu CPU (Intel Core(TM) Ultra 7 155H)\n",
      "YOLO11n-cls summary (fused): 47 layers, 1,531,148 parameters, 0 gradients, 3.2 GFLOPs\n"
     ]
    },
    {
     "name": "stderr",
     "output_type": "stream",
     "text": [
      "\u001b[34m\u001b[1mval: \u001b[0mScanning D:\\GitHub\\WarmCoolYolo\\test... 68 images, 0 corrupt: 100%|██████████| 68/68 [00:00<?, ?it/s]\n",
      "               classes   top1_acc   top5_acc: 100%|██████████| 5/5 [00:02<00:00,  2.20it/s]\n"
     ]
    },
    {
     "name": "stdout",
     "output_type": "stream",
     "text": [
      "                   all        0.5          1\n",
      "Speed: 0.0ms preprocess, 21.5ms inference, 0.0ms loss, 0.0ms postprocess per image\n",
      "Results saved to \u001b[1mruns\\classify\\val\u001b[0m\n"
     ]
    },
    {
     "data": {
      "text/plain": [
       "{'metrics/accuracy_top1': 0.5, 'metrics/accuracy_top5': 1.0, 'fitness': 0.75}"
      ]
     },
     "execution_count": 12,
     "metadata": {},
     "output_type": "execute_result"
    }
   ],
   "source": [
    "model = YOLO(\"runs/classify/train/weights/best.pt\")\n",
    "results = model.val(data='data.yaml')\n",
    "results.results_dict"
   ]
  },
  {
   "cell_type": "markdown",
   "metadata": {},
   "source": [
    "# 252개의 이미지를 훈련시킬 때\n",
    "[데이터 출처](https://github.com/starbucksdolcelatte/ShowMeTheColor)\n",
    "<table>\n",
    "<tr><th>봄 웜톤</th><td>63</td></tr>\n",
    "<tr><th>가을 웜톤</th><td>63</td></tr>\n",
    "<tr><th>여름 쿨톤</th><td>63</td></tr>\n",
    "<tr><th>겨울 쿨톤</th><td>63</td></tr>\n",
    "</table>"
   ]
  },
  {
   "cell_type": "code",
   "execution_count": 5,
   "metadata": {},
   "outputs": [
    {
     "name": "stdout",
     "output_type": "stream",
     "text": [
      "Ultralytics 8.3.122  Python-3.11.9 torch-2.0.1+cpu CPU (Intel Core(TM) Ultra 7 155H)\n",
      "YOLO11n-cls summary (fused): 47 layers, 1,531,148 parameters, 0 gradients, 3.2 GFLOPs\n",
      "\u001b[34m\u001b[1mval: \u001b[0mFast image access  (ping: 0.00.0 ms, read: 929.3433.1 MB/s, size: 42.4 KB)\n"
     ]
    },
    {
     "name": "stderr",
     "output_type": "stream",
     "text": [
      "\u001b[34m\u001b[1mval: \u001b[0mScanning D:\\GitHub\\WarmCoolYolo\\test... 68 images, 0 corrupt: 100%|██████████| 68/68 [00:00<?, ?it/s]\n",
      "               classes   top1_acc   top5_acc: 100%|██████████| 5/5 [00:03<00:00,  1.44it/s]\n"
     ]
    },
    {
     "name": "stdout",
     "output_type": "stream",
     "text": [
      "                   all       0.75          1\n",
      "Speed: 0.0ms preprocess, 40.1ms inference, 0.0ms loss, 0.0ms postprocess per image\n",
      "Results saved to \u001b[1mD:\\GitHub\\WarmCoolFastapi\\runs\\classify\\val\u001b[0m\n"
     ]
    },
    {
     "data": {
      "text/plain": [
       "{'metrics/accuracy_top1': 0.75, 'metrics/accuracy_top5': 1.0, 'fitness': 0.875}"
      ]
     },
     "execution_count": 5,
     "metadata": {},
     "output_type": "execute_result"
    }
   ],
   "source": [
    "model = YOLO(\"runs/classify/train2/weights/best.pt\")\n",
    "results=model.val(data=\"data.yaml\")\n",
    "results.results_dict"
   ]
  },
  {
   "cell_type": "markdown",
   "metadata": {},
   "source": [
    "# 4516개의 이미지를 훈련시킬 때(클래스 불균형)\n",
    "<table>\n",
    "<tr><th>가을 웜톤</th><td>1140</td></tr>\n",
    "<tr><th>봄 웜톤</th><td>1093</td></tr>\n",
    "<tr><th>여름 쿨톤</th><td>892</td></tr>\n",
    "<tr><th>겨울 쿨톤</th><td>1391</td></tr>\n",
    "</table>"
   ]
  },
  {
   "cell_type": "code",
   "execution_count": 14,
   "metadata": {},
   "outputs": [
    {
     "name": "stdout",
     "output_type": "stream",
     "text": [
      "Ultralytics 8.3.98  Python-3.11.9 torch-2.4.1+cpu CPU (Intel Core(TM) Ultra 7 155H)\n"
     ]
    },
    {
     "name": "stdout",
     "output_type": "stream",
     "text": [
      "YOLO11n-cls summary (fused): 47 layers, 1,531,148 parameters, 0 gradients, 3.2 GFLOPs\n"
     ]
    },
    {
     "name": "stderr",
     "output_type": "stream",
     "text": [
      "\u001b[34m\u001b[1mval: \u001b[0mScanning D:\\GitHub\\WarmCoolYolo\\test... 68 images, 0 corrupt: 100%|██████████| 68/68 [00:00<?, ?it/s]\n",
      "               classes   top1_acc   top5_acc: 100%|██████████| 5/5 [00:02<00:00,  2.28it/s]\n"
     ]
    },
    {
     "name": "stdout",
     "output_type": "stream",
     "text": [
      "                   all      0.676          1\n",
      "Speed: 0.0ms preprocess, 21.1ms inference, 0.0ms loss, 0.0ms postprocess per image\n",
      "Results saved to \u001b[1mruns\\classify\\val3\u001b[0m\n"
     ]
    },
    {
     "data": {
      "text/plain": [
       "{'metrics/accuracy_top1': 0.6764705777168274,\n",
       " 'metrics/accuracy_top5': 1.0,\n",
       " 'fitness': 0.8382352888584137}"
      ]
     },
     "execution_count": 14,
     "metadata": {},
     "output_type": "execute_result"
    }
   ],
   "source": [
    "model = YOLO(\"runs/classify/train3/weights/best.pt\")\n",
    "results=model.val(data=\"data.yaml\")\n",
    "results.results_dict"
   ]
  },
  {
   "cell_type": "markdown",
   "metadata": {},
   "source": [
    "# 전처리후 훈련했을 때\n",
    "<table>\n",
    "<tr><th>가을 웜톤</th><td>488</td></tr>\n",
    "<tr><th>봄 웜톤</th><td>529</td></tr>\n",
    "<tr><th>여름 쿨톤</th><td>401</td></tr>\n",
    "<tr><th>겨울 쿨톤</th><td>533</td></tr>\n",
    "</table>"
   ]
  },
  {
   "cell_type": "code",
   "execution_count": 16,
   "metadata": {},
   "outputs": [
    {
     "name": "stdout",
     "output_type": "stream",
     "text": [
      "Ultralytics 8.3.122  Python-3.11.9 torch-2.0.1+cpu CPU (Intel Core(TM) Ultra 7 155H)\n",
      "YOLO11n-cls summary (fused): 47 layers, 1,531,148 parameters, 0 gradients, 3.2 GFLOPs\n",
      "\u001b[34m\u001b[1mval: \u001b[0mFast image access  (ping: 0.00.0 ms, read: 1765.81059.1 MB/s, size: 110.3 KB)\n"
     ]
    },
    {
     "name": "stderr",
     "output_type": "stream",
     "text": [
      "\u001b[34m\u001b[1mval: \u001b[0mScanning D:\\GitHub\\WarmCoolYolo\\test... 68 images, 0 corrupt: 100%|██████████| 68/68 [00:00<?, ?it/s]\n",
      "               classes   top1_acc   top5_acc: 100%|██████████| 5/5 [00:03<00:00,  1.37it/s]\n"
     ]
    },
    {
     "name": "stdout",
     "output_type": "stream",
     "text": [
      "                   all        0.5          1\n",
      "Speed: 0.0ms preprocess, 41.1ms inference, 0.0ms loss, 0.0ms postprocess per image\n",
      "Results saved to \u001b[1mruns\\classify\\val7\u001b[0m\n"
     ]
    },
    {
     "data": {
      "text/plain": [
       "{'metrics/accuracy_top1': 0.5, 'metrics/accuracy_top5': 1.0, 'fitness': 0.75}"
      ]
     },
     "execution_count": 16,
     "metadata": {},
     "output_type": "execute_result"
    }
   ],
   "source": [
    "model = YOLO(\"runs/classify/train4/weights/best.pt\")\n",
    "results=model.val(data=\"data.yaml\",            \n",
    "                  project=r'./runs/classify',\n",
    "            name='val'\n",
    "            )\n",
    "results.results_dict"
   ]
  },
  {
   "cell_type": "markdown",
   "metadata": {},
   "source": [
    "# 최고 성능이였던 데이터를 가지고 yolo11s-cls를 써서 훈련시켰을때\n",
    "[데이터 출처](https://github.com/starbucksdolcelatte/ShowMeTheColor)\n",
    "<table>\n",
    "<tr><th>봄 웜톤</th><td>63</td></tr>\n",
    "<tr><th>가을 웜톤</th><td>63</td></tr>\n",
    "<tr><th>여름 쿨톤</th><td>63</td></tr>\n",
    "<tr><th>겨울 쿨톤</th><td>63</td></tr>\n",
    "</table>"
   ]
  },
  {
   "cell_type": "code",
   "execution_count": 6,
   "metadata": {},
   "outputs": [
    {
     "name": "stdout",
     "output_type": "stream",
     "text": [
      "Ultralytics 8.3.122  Python-3.11.9 torch-2.0.1+cpu CPU (Intel Core(TM) Ultra 7 155H)\n",
      "YOLO11s-cls summary (fused): 47 layers, 5,439,252 parameters, 0 gradients, 12.0 GFLOPs\n",
      "\u001b[34m\u001b[1mval: \u001b[0mFast image access  (ping: 0.00.0 ms, read: 65.062.6 MB/s, size: 42.4 KB)\n"
     ]
    },
    {
     "name": "stderr",
     "output_type": "stream",
     "text": [
      "\u001b[34m\u001b[1mval: \u001b[0mScanning D:\\GitHub\\WarmCoolYolo\\test... 68 images, 0 corrupt: 100%|██████████| 68/68 [00:00<?, ?it/s]\n",
      "               classes   top1_acc   top5_acc: 100%|██████████| 5/5 [00:07<00:00,  1.55s/it]\n"
     ]
    },
    {
     "name": "stdout",
     "output_type": "stream",
     "text": [
      "                   all      0.574          1\n",
      "Speed: 0.0ms preprocess, 97.2ms inference, 0.0ms loss, 0.0ms postprocess per image\n",
      "Results saved to \u001b[1mruns\\classify\\val5\u001b[0m\n"
     ]
    },
    {
     "data": {
      "text/plain": [
       "{'metrics/accuracy_top1': 0.5735294222831726,\n",
       " 'metrics/accuracy_top5': 1.0,\n",
       " 'fitness': 0.7867647111415863}"
      ]
     },
     "execution_count": 6,
     "metadata": {},
     "output_type": "execute_result"
    }
   ],
   "source": [
    "model = YOLO(\"runs/classify/train5/weights/best.pt\")\n",
    "results=model.val(data=\"data.yaml\",            \n",
    "                  project=r'./runs/classify',\n",
    "            name='val'\n",
    "            )\n",
    "results.results_dict"
   ]
  },
  {
   "cell_type": "markdown",
   "metadata": {},
   "source": [
    "# 전처리한 데이터를 웜톤 쿨톤 분류 모델로만 했을때\n",
    "<table>\n",
    "<tr><th>웜톤</th><td>1017</td></tr>\n",
    "<tr><th>쿨톤</th><td>934</td></tr>\n",
    "</table>"
   ]
  },
  {
   "cell_type": "code",
   "execution_count": 15,
   "metadata": {},
   "outputs": [
    {
     "name": "stdout",
     "output_type": "stream",
     "text": [
      "Ultralytics 8.3.122  Python-3.11.9 torch-2.0.1+cpu CPU (Intel Core(TM) Ultra 7 155H)\n",
      "YOLO11n-cls summary (fused): 47 layers, 1,528,586 parameters, 0 gradients, 3.2 GFLOPs\n",
      "\u001b[34m\u001b[1mval: \u001b[0mFast image access  (ping: 0.00.0 ms, read: 191.3153.2 MB/s, size: 110.3 KB)\n"
     ]
    },
    {
     "name": "stderr",
     "output_type": "stream",
     "text": [
      "\u001b[34m\u001b[1mval: \u001b[0mScanning D:\\GitHub\\WarmCoolYolo\\test... 68 images, 0 corrupt: 100%|██████████| 68/68 [00:00<?, ?it/s]\n",
      "               classes   top1_acc   top5_acc: 100%|██████████| 5/5 [00:03<00:00,  1.27it/s]\n"
     ]
    },
    {
     "name": "stdout",
     "output_type": "stream",
     "text": [
      "                   all      0.912          1\n",
      "Speed: 0.0ms preprocess, 43.9ms inference, 0.0ms loss, 0.0ms postprocess per image\n",
      "Results saved to \u001b[1mruns\\classify\\val6\u001b[0m\n"
     ]
    },
    {
     "data": {
      "text/plain": [
       "{'metrics/accuracy_top1': 0.9117646813392639,\n",
       " 'metrics/accuracy_top5': 1.0,\n",
       " 'fitness': 0.955882340669632}"
      ]
     },
     "execution_count": 15,
     "metadata": {},
     "output_type": "execute_result"
    }
   ],
   "source": [
    "model = YOLO(\"runs/classify/train6/weights/best.pt\")\n",
    "results=model.val(data=\"data.yaml\")\n",
    "results.results_dict"
   ]
  }
 ],
 "metadata": {
  "kernelspec": {
   "display_name": "Python 3",
   "language": "python",
   "name": "python3"
  },
  "language_info": {
   "codemirror_mode": {
    "name": "ipython",
    "version": 3
   },
   "file_extension": ".py",
   "mimetype": "text/x-python",
   "name": "python",
   "nbconvert_exporter": "python",
   "pygments_lexer": "ipython3",
   "version": "3.11.9"
  }
 },
 "nbformat": 4,
 "nbformat_minor": 2
}
