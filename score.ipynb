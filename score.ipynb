{
 "cells": [
  {
   "cell_type": "markdown",
   "metadata": {},
   "source": [
    "# 작은 모델을 만들고 그걸로 많은 이미지를 분류후 새로 모델을 만들때"
   ]
  },
  {
   "cell_type": "code",
   "execution_count": 1,
   "metadata": {},
   "outputs": [
    {
     "name": "stdout",
     "output_type": "stream",
     "text": [
      "Ultralytics 8.3.98  Python-3.11.9 torch-2.4.1+cpu CPU (Intel Core(TM) Ultra 7 155H)\n",
      "YOLO11n-cls summary (fused): 47 layers, 1,531,148 parameters, 0 gradients, 3.2 GFLOPs\n",
      "WARNING  Dataset 'split=val' not found, using 'split=test' instead.\n",
      "\u001b[34m\u001b[1mtrain:\u001b[0m D:\\GitHub\\WarmCoolYolo\\dataset\\train... found 776 images in 4 classes  \n",
      "\u001b[34m\u001b[1mval:\u001b[0m D:\\GitHub\\WarmCoolYolo\\dataset\\test... found 25 images in 4 classes  \n",
      "\u001b[34m\u001b[1mtest:\u001b[0m D:\\GitHub\\WarmCoolYolo\\dataset\\test... found 25 images in 4 classes  \n"
     ]
    },
    {
     "name": "stderr",
     "output_type": "stream",
     "text": [
      "\u001b[34m\u001b[1mval: \u001b[0mScanning D:\\GitHub\\WarmCoolYolo\\dataset\\test... 25 images, 0 corrupt: 100%|██████████| 25/25 [00:00<?, ?it/s]\n",
      "               classes   top1_acc   top5_acc: 100%|██████████| 2/2 [00:01<00:00,  1.15it/s]\n",
      "c:\\Users\\anyou\\AppData\\Local\\Programs\\Python\\Python311\\Lib\\site-packages\\ultralytics\\utils\\metrics.py:450: UserWarning: Glyph 44032 (\\N{HANGUL SYLLABLE GA}) missing from current font.\n",
      "  fig.savefig(plot_fname, dpi=250)\n",
      "c:\\Users\\anyou\\AppData\\Local\\Programs\\Python\\Python311\\Lib\\site-packages\\ultralytics\\utils\\metrics.py:450: UserWarning: Glyph 51012 (\\N{HANGUL SYLLABLE EUL}) missing from current font.\n",
      "  fig.savefig(plot_fname, dpi=250)\n",
      "c:\\Users\\anyou\\AppData\\Local\\Programs\\Python\\Python311\\Lib\\site-packages\\ultralytics\\utils\\metrics.py:450: UserWarning: Glyph 50908 (\\N{HANGUL SYLLABLE WEOM}) missing from current font.\n",
      "  fig.savefig(plot_fname, dpi=250)\n",
      "c:\\Users\\anyou\\AppData\\Local\\Programs\\Python\\Python311\\Lib\\site-packages\\ultralytics\\utils\\metrics.py:450: UserWarning: Glyph 53668 (\\N{HANGUL SYLLABLE TON}) missing from current font.\n",
      "  fig.savefig(plot_fname, dpi=250)\n",
      "c:\\Users\\anyou\\AppData\\Local\\Programs\\Python\\Python311\\Lib\\site-packages\\ultralytics\\utils\\metrics.py:450: UserWarning: Glyph 44200 (\\N{HANGUL SYLLABLE GYEO}) missing from current font.\n",
      "  fig.savefig(plot_fname, dpi=250)\n",
      "c:\\Users\\anyou\\AppData\\Local\\Programs\\Python\\Python311\\Lib\\site-packages\\ultralytics\\utils\\metrics.py:450: UserWarning: Glyph 50872 (\\N{HANGUL SYLLABLE UL}) missing from current font.\n",
      "  fig.savefig(plot_fname, dpi=250)\n",
      "c:\\Users\\anyou\\AppData\\Local\\Programs\\Python\\Python311\\Lib\\site-packages\\ultralytics\\utils\\metrics.py:450: UserWarning: Glyph 53224 (\\N{HANGUL SYLLABLE KUL}) missing from current font.\n",
      "  fig.savefig(plot_fname, dpi=250)\n",
      "c:\\Users\\anyou\\AppData\\Local\\Programs\\Python\\Python311\\Lib\\site-packages\\ultralytics\\utils\\metrics.py:450: UserWarning: Glyph 48388 (\\N{HANGUL SYLLABLE BOM}) missing from current font.\n",
      "  fig.savefig(plot_fname, dpi=250)\n",
      "c:\\Users\\anyou\\AppData\\Local\\Programs\\Python\\Python311\\Lib\\site-packages\\ultralytics\\utils\\metrics.py:450: UserWarning: Glyph 50668 (\\N{HANGUL SYLLABLE YEO}) missing from current font.\n",
      "  fig.savefig(plot_fname, dpi=250)\n",
      "c:\\Users\\anyou\\AppData\\Local\\Programs\\Python\\Python311\\Lib\\site-packages\\ultralytics\\utils\\metrics.py:450: UserWarning: Glyph 47492 (\\N{HANGUL SYLLABLE REUM}) missing from current font.\n",
      "  fig.savefig(plot_fname, dpi=250)\n",
      "c:\\Users\\anyou\\AppData\\Local\\Programs\\Python\\Python311\\Lib\\site-packages\\ultralytics\\utils\\metrics.py:450: UserWarning: Glyph 44032 (\\N{HANGUL SYLLABLE GA}) missing from current font.\n",
      "  fig.savefig(plot_fname, dpi=250)\n",
      "c:\\Users\\anyou\\AppData\\Local\\Programs\\Python\\Python311\\Lib\\site-packages\\ultralytics\\utils\\metrics.py:450: UserWarning: Glyph 51012 (\\N{HANGUL SYLLABLE EUL}) missing from current font.\n",
      "  fig.savefig(plot_fname, dpi=250)\n",
      "c:\\Users\\anyou\\AppData\\Local\\Programs\\Python\\Python311\\Lib\\site-packages\\ultralytics\\utils\\metrics.py:450: UserWarning: Glyph 50908 (\\N{HANGUL SYLLABLE WEOM}) missing from current font.\n",
      "  fig.savefig(plot_fname, dpi=250)\n",
      "c:\\Users\\anyou\\AppData\\Local\\Programs\\Python\\Python311\\Lib\\site-packages\\ultralytics\\utils\\metrics.py:450: UserWarning: Glyph 53668 (\\N{HANGUL SYLLABLE TON}) missing from current font.\n",
      "  fig.savefig(plot_fname, dpi=250)\n",
      "c:\\Users\\anyou\\AppData\\Local\\Programs\\Python\\Python311\\Lib\\site-packages\\ultralytics\\utils\\metrics.py:450: UserWarning: Glyph 44200 (\\N{HANGUL SYLLABLE GYEO}) missing from current font.\n",
      "  fig.savefig(plot_fname, dpi=250)\n",
      "c:\\Users\\anyou\\AppData\\Local\\Programs\\Python\\Python311\\Lib\\site-packages\\ultralytics\\utils\\metrics.py:450: UserWarning: Glyph 50872 (\\N{HANGUL SYLLABLE UL}) missing from current font.\n",
      "  fig.savefig(plot_fname, dpi=250)\n",
      "c:\\Users\\anyou\\AppData\\Local\\Programs\\Python\\Python311\\Lib\\site-packages\\ultralytics\\utils\\metrics.py:450: UserWarning: Glyph 53224 (\\N{HANGUL SYLLABLE KUL}) missing from current font.\n",
      "  fig.savefig(plot_fname, dpi=250)\n",
      "c:\\Users\\anyou\\AppData\\Local\\Programs\\Python\\Python311\\Lib\\site-packages\\ultralytics\\utils\\metrics.py:450: UserWarning: Glyph 48388 (\\N{HANGUL SYLLABLE BOM}) missing from current font.\n",
      "  fig.savefig(plot_fname, dpi=250)\n",
      "c:\\Users\\anyou\\AppData\\Local\\Programs\\Python\\Python311\\Lib\\site-packages\\ultralytics\\utils\\metrics.py:450: UserWarning: Glyph 50668 (\\N{HANGUL SYLLABLE YEO}) missing from current font.\n",
      "  fig.savefig(plot_fname, dpi=250)\n",
      "c:\\Users\\anyou\\AppData\\Local\\Programs\\Python\\Python311\\Lib\\site-packages\\ultralytics\\utils\\metrics.py:450: UserWarning: Glyph 47492 (\\N{HANGUL SYLLABLE REUM}) missing from current font.\n",
      "  fig.savefig(plot_fname, dpi=250)\n"
     ]
    },
    {
     "name": "stdout",
     "output_type": "stream",
     "text": [
      "                   all       0.28          1\n",
      "Speed: 0.0ms preprocess, 37.7ms inference, 0.0ms loss, 0.0ms postprocess per image\n",
      "Results saved to \u001b[1mruns\\classify\\val\u001b[0m\n",
      "{'metrics/accuracy_top1': 0.2800000011920929, 'metrics/accuracy_top5': 1.0, 'fitness': 0.6400000005960464}\n"
     ]
    }
   ],
   "source": [
    "from ultralytics import YOLO\n",
    "import os\n",
    "\n",
    "model = YOLO(r\"runs\\classify\\train\\weights\\best.pt\")\n",
    "results = model.val()\n",
    "print(results.results_dict)\n"
   ]
  },
  {
   "cell_type": "markdown",
   "metadata": {},
   "source": [
    "# 확실한 데이터를 써서 모델을 만들 때"
   ]
  },
  {
   "cell_type": "code",
   "execution_count": 2,
   "metadata": {},
   "outputs": [
    {
     "name": "stdout",
     "output_type": "stream",
     "text": [
      "Ultralytics 8.3.98  Python-3.11.9 torch-2.4.1+cpu CPU (Intel Core(TM) Ultra 7 155H)\n",
      "YOLO11n-cls summary (fused): 47 layers, 1,531,148 parameters, 0 gradients, 3.2 GFLOPs\n",
      "WARNING  Dataset 'split=val' not found, using 'split=test' instead.\n",
      "\u001b[34m\u001b[1mtrain:\u001b[0m D:\\GitHub\\WarmCoolYolo\\dataset\\train... found 776 images in 4 classes  \n",
      "\u001b[34m\u001b[1mval:\u001b[0m D:\\GitHub\\WarmCoolYolo\\dataset\\test... found 25 images in 4 classes  \n",
      "\u001b[34m\u001b[1mtest:\u001b[0m D:\\GitHub\\WarmCoolYolo\\dataset\\test... found 25 images in 4 classes  \n"
     ]
    },
    {
     "name": "stderr",
     "output_type": "stream",
     "text": [
      "\u001b[34m\u001b[1mval: \u001b[0mScanning D:\\GitHub\\WarmCoolYolo\\dataset\\test... 25 images, 0 corrupt: 100%|██████████| 25/25 [00:00<?, ?it/s]\n",
      "               classes   top1_acc   top5_acc: 100%|██████████| 2/2 [00:01<00:00,  1.46it/s]\n",
      "c:\\Users\\anyou\\AppData\\Local\\Programs\\Python\\Python311\\Lib\\site-packages\\ultralytics\\utils\\metrics.py:450: UserWarning: Glyph 44032 (\\N{HANGUL SYLLABLE GA}) missing from current font.\n",
      "  fig.savefig(plot_fname, dpi=250)\n",
      "c:\\Users\\anyou\\AppData\\Local\\Programs\\Python\\Python311\\Lib\\site-packages\\ultralytics\\utils\\metrics.py:450: UserWarning: Glyph 51012 (\\N{HANGUL SYLLABLE EUL}) missing from current font.\n",
      "  fig.savefig(plot_fname, dpi=250)\n",
      "c:\\Users\\anyou\\AppData\\Local\\Programs\\Python\\Python311\\Lib\\site-packages\\ultralytics\\utils\\metrics.py:450: UserWarning: Glyph 50908 (\\N{HANGUL SYLLABLE WEOM}) missing from current font.\n",
      "  fig.savefig(plot_fname, dpi=250)\n",
      "c:\\Users\\anyou\\AppData\\Local\\Programs\\Python\\Python311\\Lib\\site-packages\\ultralytics\\utils\\metrics.py:450: UserWarning: Glyph 53668 (\\N{HANGUL SYLLABLE TON}) missing from current font.\n",
      "  fig.savefig(plot_fname, dpi=250)\n",
      "c:\\Users\\anyou\\AppData\\Local\\Programs\\Python\\Python311\\Lib\\site-packages\\ultralytics\\utils\\metrics.py:450: UserWarning: Glyph 44200 (\\N{HANGUL SYLLABLE GYEO}) missing from current font.\n",
      "  fig.savefig(plot_fname, dpi=250)\n",
      "c:\\Users\\anyou\\AppData\\Local\\Programs\\Python\\Python311\\Lib\\site-packages\\ultralytics\\utils\\metrics.py:450: UserWarning: Glyph 50872 (\\N{HANGUL SYLLABLE UL}) missing from current font.\n",
      "  fig.savefig(plot_fname, dpi=250)\n",
      "c:\\Users\\anyou\\AppData\\Local\\Programs\\Python\\Python311\\Lib\\site-packages\\ultralytics\\utils\\metrics.py:450: UserWarning: Glyph 53224 (\\N{HANGUL SYLLABLE KUL}) missing from current font.\n",
      "  fig.savefig(plot_fname, dpi=250)\n",
      "c:\\Users\\anyou\\AppData\\Local\\Programs\\Python\\Python311\\Lib\\site-packages\\ultralytics\\utils\\metrics.py:450: UserWarning: Glyph 48388 (\\N{HANGUL SYLLABLE BOM}) missing from current font.\n",
      "  fig.savefig(plot_fname, dpi=250)\n",
      "c:\\Users\\anyou\\AppData\\Local\\Programs\\Python\\Python311\\Lib\\site-packages\\ultralytics\\utils\\metrics.py:450: UserWarning: Glyph 50668 (\\N{HANGUL SYLLABLE YEO}) missing from current font.\n",
      "  fig.savefig(plot_fname, dpi=250)\n",
      "c:\\Users\\anyou\\AppData\\Local\\Programs\\Python\\Python311\\Lib\\site-packages\\ultralytics\\utils\\metrics.py:450: UserWarning: Glyph 47492 (\\N{HANGUL SYLLABLE REUM}) missing from current font.\n",
      "  fig.savefig(plot_fname, dpi=250)\n",
      "c:\\Users\\anyou\\AppData\\Local\\Programs\\Python\\Python311\\Lib\\site-packages\\ultralytics\\utils\\metrics.py:450: UserWarning: Glyph 44032 (\\N{HANGUL SYLLABLE GA}) missing from current font.\n",
      "  fig.savefig(plot_fname, dpi=250)\n",
      "c:\\Users\\anyou\\AppData\\Local\\Programs\\Python\\Python311\\Lib\\site-packages\\ultralytics\\utils\\metrics.py:450: UserWarning: Glyph 51012 (\\N{HANGUL SYLLABLE EUL}) missing from current font.\n",
      "  fig.savefig(plot_fname, dpi=250)\n",
      "c:\\Users\\anyou\\AppData\\Local\\Programs\\Python\\Python311\\Lib\\site-packages\\ultralytics\\utils\\metrics.py:450: UserWarning: Glyph 50908 (\\N{HANGUL SYLLABLE WEOM}) missing from current font.\n",
      "  fig.savefig(plot_fname, dpi=250)\n",
      "c:\\Users\\anyou\\AppData\\Local\\Programs\\Python\\Python311\\Lib\\site-packages\\ultralytics\\utils\\metrics.py:450: UserWarning: Glyph 53668 (\\N{HANGUL SYLLABLE TON}) missing from current font.\n",
      "  fig.savefig(plot_fname, dpi=250)\n",
      "c:\\Users\\anyou\\AppData\\Local\\Programs\\Python\\Python311\\Lib\\site-packages\\ultralytics\\utils\\metrics.py:450: UserWarning: Glyph 44200 (\\N{HANGUL SYLLABLE GYEO}) missing from current font.\n",
      "  fig.savefig(plot_fname, dpi=250)\n",
      "c:\\Users\\anyou\\AppData\\Local\\Programs\\Python\\Python311\\Lib\\site-packages\\ultralytics\\utils\\metrics.py:450: UserWarning: Glyph 50872 (\\N{HANGUL SYLLABLE UL}) missing from current font.\n",
      "  fig.savefig(plot_fname, dpi=250)\n",
      "c:\\Users\\anyou\\AppData\\Local\\Programs\\Python\\Python311\\Lib\\site-packages\\ultralytics\\utils\\metrics.py:450: UserWarning: Glyph 53224 (\\N{HANGUL SYLLABLE KUL}) missing from current font.\n",
      "  fig.savefig(plot_fname, dpi=250)\n",
      "c:\\Users\\anyou\\AppData\\Local\\Programs\\Python\\Python311\\Lib\\site-packages\\ultralytics\\utils\\metrics.py:450: UserWarning: Glyph 48388 (\\N{HANGUL SYLLABLE BOM}) missing from current font.\n",
      "  fig.savefig(plot_fname, dpi=250)\n",
      "c:\\Users\\anyou\\AppData\\Local\\Programs\\Python\\Python311\\Lib\\site-packages\\ultralytics\\utils\\metrics.py:450: UserWarning: Glyph 50668 (\\N{HANGUL SYLLABLE YEO}) missing from current font.\n",
      "  fig.savefig(plot_fname, dpi=250)\n",
      "c:\\Users\\anyou\\AppData\\Local\\Programs\\Python\\Python311\\Lib\\site-packages\\ultralytics\\utils\\metrics.py:450: UserWarning: Glyph 47492 (\\N{HANGUL SYLLABLE REUM}) missing from current font.\n",
      "  fig.savefig(plot_fname, dpi=250)\n"
     ]
    },
    {
     "name": "stdout",
     "output_type": "stream",
     "text": [
      "                   all       0.52          1\n",
      "Speed: 0.0ms preprocess, 37.1ms inference, 0.0ms loss, 0.0ms postprocess per image\n",
      "Results saved to \u001b[1mruns\\classify\\val2\u001b[0m\n",
      "{'metrics/accuracy_top1': 0.5199999809265137, 'metrics/accuracy_top5': 1.0, 'fitness': 0.7599999904632568}\n"
     ]
    }
   ],
   "source": [
    "from ultralytics import YOLO\n",
    "import os\n",
    "\n",
    "model = YOLO(r\"runs\\classify\\train2\\weights\\best.pt\")\n",
    "results = model.val()\n",
    "print(results.results_dict)\n"
   ]
  }
 ],
 "metadata": {
  "kernelspec": {
   "display_name": "Python 3",
   "language": "python",
   "name": "python3"
  },
  "language_info": {
   "codemirror_mode": {
    "name": "ipython",
    "version": 3
   },
   "file_extension": ".py",
   "mimetype": "text/x-python",
   "name": "python",
   "nbconvert_exporter": "python",
   "pygments_lexer": "ipython3",
   "version": "3.11.9"
  }
 },
 "nbformat": 4,
 "nbformat_minor": 2
}
