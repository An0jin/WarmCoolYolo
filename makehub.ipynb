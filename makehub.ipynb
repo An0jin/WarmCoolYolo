{
 "cells": [
  {
   "cell_type": "code",
   "execution_count": 1,
   "metadata": {},
   "outputs": [
    {
     "name": "stdout",
     "output_type": "stream",
     "text": [
      "Collecting hub_sdk\n",
      "  Downloading hub_sdk-0.0.20-py3-none-any.whl.metadata (10 kB)\n",
      "Requirement already satisfied: requests in c:\\users\\anyou\\appdata\\local\\programs\\python\\python311\\lib\\site-packages (from hub_sdk) (2.32.3)\n",
      "Requirement already satisfied: charset-normalizer<4,>=2 in c:\\users\\anyou\\appdata\\local\\programs\\python\\python311\\lib\\site-packages (from requests->hub_sdk) (3.4.1)\n",
      "Requirement already satisfied: idna<4,>=2.5 in c:\\users\\anyou\\appdata\\local\\programs\\python\\python311\\lib\\site-packages (from requests->hub_sdk) (2.10)\n",
      "Requirement already satisfied: urllib3<3,>=1.21.1 in c:\\users\\anyou\\appdata\\local\\programs\\python\\python311\\lib\\site-packages (from requests->hub_sdk) (2.4.0)\n",
      "Requirement already satisfied: certifi>=2017.4.17 in c:\\users\\anyou\\appdata\\local\\programs\\python\\python311\\lib\\site-packages (from requests->hub_sdk) (2025.4.26)\n",
      "Downloading hub_sdk-0.0.20-py3-none-any.whl (44 kB)\n",
      "   ---------------------------------------- 0.0/44.3 kB ? eta -:--:--\n",
      "   ------------------------------------ --- 41.0/44.3 kB 1.9 MB/s eta 0:00:01\n",
      "   ---------------------------------------- 44.3/44.3 kB 1.1 MB/s eta 0:00:00\n",
      "Installing collected packages: hub_sdk\n",
      "Successfully installed hub_sdk-0.0.20\n",
      "Note: you may need to restart the kernel to use updated packages.\n"
     ]
    },
    {
     "name": "stderr",
     "output_type": "stream",
     "text": [
      "\n",
      "[notice] A new release of pip is available: 24.0 -> 25.1\n",
      "[notice] To update, run: python.exe -m pip install --upgrade pip\n"
     ]
    }
   ],
   "source": [
    "%pip install hub_sdk "
   ]
  },
  {
   "cell_type": "code",
   "execution_count": 1,
   "metadata": {},
   "outputs": [],
   "source": [
    "import os\n",
    "from hub_sdk import HUBClient"
   ]
  },
  {
   "cell_type": "code",
   "execution_count": 19,
   "metadata": {},
   "outputs": [
    {
     "data": {
      "text/plain": [
       "<hub_sdk.hub_client.HUBClient at 0x1fb70cad890>"
      ]
     },
     "execution_count": 19,
     "metadata": {},
     "output_type": "execute_result"
    }
   ],
   "source": [
    "header={\"api_key\": os.getenv(\"ultralytics hub\")}\n",
    "client=HUBClient(header)\n",
    "client"
   ]
  },
  {
   "cell_type": "code",
   "execution_count": 3,
   "metadata": {},
   "outputs": [
    {
     "data": {
      "text/plain": [
       "<hub_sdk.modules.projects.Projects at 0x1fb70988350>"
      ]
     },
     "execution_count": 3,
     "metadata": {},
     "output_type": "execute_result"
    }
   ],
   "source": [
    "project=client.project()\n",
    "project"
   ]
  },
  {
   "cell_type": "code",
   "execution_count": 4,
   "metadata": {},
   "outputs": [
    {
     "data": {
      "text/plain": [
       "'프로젝트 아이디 : Ah6SphbHgL'"
      ]
     },
     "execution_count": 4,
     "metadata": {},
     "output_type": "execute_result"
    }
   ],
   "source": [
    "project.create_project({\n",
    "    \"meta\": {\n",
    "        \"name\": \"warmcoolmodel\",\n",
    "        \"description\": \"퍼스널 컬러 분류 모델\",\n",
    "        \"tags\": [\"warm\", \"cool\", \"spring_warm\", \"summer_cool\", \"autumn_warm\", \"fall_warm\", \"winter_cool\", \"personal_color\", \"classification\", \"AI\"]\n",
    "    }\n",
    "})\n",
    "\n",
    "f\"프로젝트 아이디 : {project.id[::2]}\""
   ]
  },
  {
   "cell_type": "code",
   "execution_count": 12,
   "metadata": {},
   "outputs": [],
   "source": [
    "os.environ['makeupYoloId']=project.id"
   ]
  },
  {
   "cell_type": "code",
   "execution_count": 14,
   "metadata": {},
   "outputs": [],
   "source": [
    "model=client.model()\n",
    "model.create_model({\n",
    "    \"project_id\": os.getenv('makeupYoloId'),\n",
    "    \"meta\": {\"name\": \"warmcool_Yolo\"},\n",
    "})"
   ]
  },
  {
   "cell_type": "code",
   "execution_count": 18,
   "metadata": {},
   "outputs": [],
   "source": [
    "os.environ[\"makeupModel\"]=model.id"
   ]
  }
 ],
 "metadata": {
  "kernelspec": {
   "display_name": "Python 3",
   "language": "python",
   "name": "python3"
  },
  "language_info": {
   "codemirror_mode": {
    "name": "ipython",
    "version": 3
   },
   "file_extension": ".py",
   "mimetype": "text/x-python",
   "name": "python",
   "nbconvert_exporter": "python",
   "pygments_lexer": "ipython3",
   "version": "3.11.9"
  }
 },
 "nbformat": 4,
 "nbformat_minor": 2
}
