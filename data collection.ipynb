{
 "cells": [
  {
   "cell_type": "markdown",
   "metadata": {},
   "source": [
    "# 데이터 수집"
   ]
  },
  {
   "cell_type": "code",
   "execution_count": 47,
   "metadata": {},
   "outputs": [],
   "source": [
    "import os"
   ]
  },
  {
   "cell_type": "code",
   "execution_count": 48,
   "metadata": {},
   "outputs": [
    {
     "name": "stdout",
     "output_type": "stream",
     "text": [
      "Requirement already satisfied: roboflow in c:\\users\\anyou\\appdata\\local\\programs\\python\\python311\\lib\\site-packages (1.1.44)\n",
      "Requirement already satisfied: certifi in c:\\users\\anyou\\appdata\\local\\programs\\python\\python311\\lib\\site-packages (from roboflow) (2024.8.30)\n",
      "Collecting idna==3.7 (from roboflow)\n",
      "  Using cached idna-3.7-py3-none-any.whl.metadata (9.9 kB)\n",
      "Requirement already satisfied: cycler in c:\\users\\anyou\\appdata\\local\\programs\\python\\python311\\lib\\site-packages (from roboflow) (0.12.1)\n",
      "Requirement already satisfied: kiwisolver>=1.3.1 in c:\\users\\anyou\\appdata\\local\\programs\\python\\python311\\lib\\site-packages (from roboflow) (1.4.6)\n",
      "Requirement already satisfied: matplotlib in c:\\users\\anyou\\appdata\\local\\programs\\python\\python311\\lib\\site-packages (from roboflow) (3.7.5)\n",
      "Requirement already satisfied: numpy>=1.18.5 in c:\\users\\anyou\\appdata\\local\\programs\\python\\python311\\lib\\site-packages (from roboflow) (1.26.4)\n",
      "Requirement already satisfied: opencv-python-headless==4.10.0.84 in c:\\users\\anyou\\appdata\\local\\programs\\python\\python311\\lib\\site-packages (from roboflow) (4.10.0.84)\n",
      "Requirement already satisfied: Pillow>=7.1.2 in c:\\users\\anyou\\appdata\\local\\programs\\python\\python311\\lib\\site-packages (from roboflow) (10.4.0)\n",
      "Requirement already satisfied: python-dateutil in c:\\users\\anyou\\appdata\\roaming\\python\\python311\\site-packages (from roboflow) (2.9.0.post0)\n",
      "Requirement already satisfied: python-dotenv in c:\\users\\anyou\\appdata\\local\\programs\\python\\python311\\lib\\site-packages (from roboflow) (1.0.1)\n",
      "Requirement already satisfied: requests in c:\\users\\anyou\\appdata\\local\\programs\\python\\python311\\lib\\site-packages (from roboflow) (2.32.3)\n",
      "Requirement already satisfied: six in c:\\users\\anyou\\appdata\\roaming\\python\\python311\\site-packages (from roboflow) (1.16.0)\n",
      "Requirement already satisfied: urllib3>=1.26.6 in c:\\users\\anyou\\appdata\\local\\programs\\python\\python311\\lib\\site-packages (from roboflow) (2.2.2)\n",
      "Requirement already satisfied: tqdm>=4.41.0 in c:\\users\\anyou\\appdata\\local\\programs\\python\\python311\\lib\\site-packages (from roboflow) (4.66.5)\n",
      "Requirement already satisfied: PyYAML>=5.3.1 in c:\\users\\anyou\\appdata\\local\\programs\\python\\python311\\lib\\site-packages (from roboflow) (6.0.2)\n",
      "Requirement already satisfied: requests-toolbelt in c:\\users\\anyou\\appdata\\local\\programs\\python\\python311\\lib\\site-packages (from roboflow) (1.0.0)\n",
      "Requirement already satisfied: filetype in c:\\users\\anyou\\appdata\\local\\programs\\python\\python311\\lib\\site-packages (from roboflow) (1.2.0)\n",
      "Requirement already satisfied: colorama in c:\\users\\anyou\\appdata\\roaming\\python\\python311\\site-packages (from tqdm>=4.41.0->roboflow) (0.4.6)\n",
      "Requirement already satisfied: contourpy>=1.0.1 in c:\\users\\anyou\\appdata\\local\\programs\\python\\python311\\lib\\site-packages (from matplotlib->roboflow) (1.3.0)\n",
      "Requirement already satisfied: fonttools>=4.22.0 in c:\\users\\anyou\\appdata\\local\\programs\\python\\python311\\lib\\site-packages (from matplotlib->roboflow) (4.53.1)\n",
      "Requirement already satisfied: packaging>=20.0 in c:\\users\\anyou\\appdata\\roaming\\python\\python311\\site-packages (from matplotlib->roboflow) (24.1)\n",
      "Requirement already satisfied: pyparsing>=2.3.1 in c:\\users\\anyou\\appdata\\local\\programs\\python\\python311\\lib\\site-packages (from matplotlib->roboflow) (3.1.4)\n",
      "Requirement already satisfied: charset-normalizer<4,>=2 in c:\\users\\anyou\\appdata\\local\\programs\\python\\python311\\lib\\site-packages (from requests->roboflow) (3.3.2)\n",
      "Using cached idna-3.7-py3-none-any.whl (66 kB)\n",
      "Installing collected packages: idna\n",
      "  Attempting uninstall: idna\n",
      "    Found existing installation: idna 2.10\n",
      "    Uninstalling idna-2.10:\n",
      "      Successfully uninstalled idna-2.10\n",
      "Successfully installed idna-3.7\n",
      "Note: you may need to restart the kernel to use updated packages.\n"
     ]
    },
    {
     "name": "stderr",
     "output_type": "stream",
     "text": [
      "ERROR: pip's dependency resolver does not currently take into account all the packages that are installed. This behaviour is the source of the following dependency conflicts.\n",
      "google-genai 1.8.0 requires httpx<1.0.0,>=0.28.1, but you have httpx 0.13.3 which is incompatible.\n",
      "gradio 5.6.0 requires aiofiles<24.0,>=22.0, but you have aiofiles 24.1.0 which is incompatible.\n",
      "gradio 5.6.0 requires httpx>=0.24.1, but you have httpx 0.13.3 which is incompatible.\n",
      "groq 0.20.0 requires httpx<1,>=0.23.0, but you have httpx 0.13.3 which is incompatible.\n",
      "httpx 0.13.3 requires idna==2.*, but you have idna 3.7 which is incompatible.\n",
      "langsmith 0.1.147 requires httpx<1,>=0.23.0, but you have httpx 0.13.3 which is incompatible.\n",
      "litellm 1.63.14 requires httpx>=0.23.0, but you have httpx 0.13.3 which is incompatible.\n",
      "openai 1.68.2 requires httpx<1,>=0.23.0, but you have httpx 0.13.3 which is incompatible.\n",
      "tf2onnx 1.16.1 requires protobuf~=3.20, but you have protobuf 4.25.5 which is incompatible.\n",
      "\n",
      "[notice] A new release of pip is available: 24.3.1 -> 25.0.1\n",
      "[notice] To update, run: python.exe -m pip install --upgrade pip\n"
     ]
    }
   ],
   "source": [
    "%pip install roboflow"
   ]
  },
  {
   "cell_type": "code",
   "execution_count": 49,
   "metadata": {},
   "outputs": [
    {
     "name": "stderr",
     "output_type": "stream",
     "text": [
      "Cloning into 'ShowMeTheColor'...\n",
      "Updating files:  24% (94/386)\n",
      "Updating files:  25% (97/386)\n",
      "Updating files:  26% (101/386)\n",
      "Updating files:  27% (105/386)\n",
      "Updating files:  28% (109/386)\n",
      "Updating files:  29% (112/386)\n",
      "Updating files:  30% (116/386)\n",
      "Updating files:  31% (120/386)\n",
      "Updating files:  32% (124/386)\n",
      "Updating files:  33% (128/386)\n",
      "Updating files:  34% (132/386)\n",
      "Updating files:  35% (136/386)\n",
      "Updating files:  36% (139/386)\n",
      "Updating files:  37% (143/386)\n",
      "Updating files:  38% (147/386)\n",
      "Updating files:  39% (151/386)\n",
      "Updating files:  40% (155/386)\n",
      "Updating files:  41% (159/386)\n",
      "Updating files:  42% (163/386)\n",
      "Updating files:  43% (166/386)\n",
      "Updating files:  44% (170/386)\n",
      "Updating files:  45% (174/386)\n",
      "Updating files:  46% (178/386)\n",
      "Updating files:  47% (182/386)\n",
      "Updating files:  48% (186/386)\n",
      "Updating files:  49% (190/386)\n",
      "Updating files:  50% (193/386)\n",
      "Updating files:  51% (197/386)\n",
      "Updating files:  52% (201/386)\n",
      "Updating files:  53% (205/386)\n",
      "Updating files:  54% (209/386)\n",
      "Updating files:  55% (213/386)\n",
      "Updating files:  56% (217/386)\n",
      "Updating files:  57% (221/386)\n",
      "Updating files:  58% (224/386)\n",
      "Updating files:  59% (228/386)\n",
      "Updating files:  60% (232/386)\n",
      "Updating files:  61% (236/386)\n",
      "Updating files:  62% (240/386)\n",
      "Updating files:  63% (244/386)\n",
      "Updating files:  64% (248/386)\n",
      "Updating files:  65% (251/386)\n",
      "Updating files:  66% (255/386)\n",
      "Updating files:  67% (259/386)\n",
      "Updating files:  68% (263/386)\n",
      "Updating files:  69% (267/386)\n",
      "Updating files:  70% (271/386)\n",
      "Updating files:  71% (275/386)\n",
      "Updating files:  72% (278/386)\n",
      "Updating files:  73% (282/386)\n",
      "Updating files:  74% (286/386)\n",
      "Updating files:  75% (290/386)\n",
      "Updating files:  76% (294/386)\n",
      "Updating files:  77% (298/386)\n",
      "Updating files:  78% (302/386)\n",
      "Updating files:  79% (305/386)\n",
      "Updating files:  80% (309/386)\n",
      "Updating files:  81% (313/386)\n",
      "Updating files:  82% (317/386)\n",
      "Updating files:  83% (321/386)\n",
      "Updating files:  84% (325/386)\n",
      "Updating files:  85% (329/386)\n",
      "Updating files:  86% (332/386)\n",
      "Updating files:  87% (336/386)\n",
      "Updating files:  88% (340/386)\n",
      "Updating files:  89% (344/386)\n",
      "Updating files:  90% (348/386)\n",
      "Updating files:  91% (352/386)\n",
      "Updating files:  92% (356/386)\n",
      "Updating files:  93% (359/386)\n",
      "Updating files:  94% (363/386)\n",
      "Updating files:  95% (367/386)\n",
      "Updating files:  96% (371/386)\n",
      "Updating files:  97% (375/386)\n",
      "Updating files:  98% (379/386)\n",
      "Updating files:  99% (383/386)\n",
      "Updating files: 100% (386/386)\n",
      "Updating files: 100% (386/386), done.\n"
     ]
    }
   ],
   "source": [
    "!git clone https://github.com/starbucksdolcelatte/ShowMeTheColor.git"
   ]
  },
  {
   "cell_type": "code",
   "execution_count": 50,
   "metadata": {},
   "outputs": [],
   "source": [
    "from roboflow import Roboflow\n",
    "with open(\"./apikey.txt\") as f:\n",
    "    APIKEY=f.read()\n",
    "rf=Roboflow(APIKEY)"
   ]
  },
  {
   "cell_type": "code",
   "execution_count": 51,
   "metadata": {},
   "outputs": [
    {
     "name": "stdout",
     "output_type": "stream",
     "text": [
      "loading Roboflow workspace...\n",
      "loading Roboflow project...\n"
     ]
    },
    {
     "name": "stderr",
     "output_type": "stream",
     "text": [
      "Downloading Dataset Version Zip in personal-color-1 to folder:: 100%|██████████| 9093/9093 [00:01<00:00, 8414.66it/s] "
     ]
    },
    {
     "name": "stdout",
     "output_type": "stream",
     "text": [
      "\n"
     ]
    },
    {
     "name": "stderr",
     "output_type": "stream",
     "text": [
      "\n",
      "Extracting Dataset Version Zip to personal-color-1 in folder:: 100%|██████████| 548/548 [00:00<00:00, 1672.08it/s]\n"
     ]
    },
    {
     "data": {
      "text/plain": [
       "<roboflow.core.dataset.Dataset at 0x1b6fc570a90>"
      ]
     },
     "execution_count": 51,
     "metadata": {},
     "output_type": "execute_result"
    }
   ],
   "source": [
    "rf.workspace(\"capstonea-9fv4r\").project(\"personal-color\").version(1).download(\"folder\")"
   ]
  },
  {
   "cell_type": "code",
   "execution_count": 52,
   "metadata": {},
   "outputs": [],
   "source": [
    "os.rename(\"personal-color-1\",\"dataset\")"
   ]
  },
  {
   "cell_type": "code",
   "execution_count": 53,
   "metadata": {},
   "outputs": [
    {
     "name": "stdout",
     "output_type": "stream",
     "text": [
      "loading Roboflow workspace...\n",
      "loading Roboflow project...\n"
     ]
    },
    {
     "name": "stderr",
     "output_type": "stream",
     "text": [
      "Downloading Dataset Version Zip in Color-Analysis-1 to folder:: 100%|██████████| 2075/2075 [00:00<00:00, 3217.15it/s]"
     ]
    },
    {
     "name": "stdout",
     "output_type": "stream",
     "text": [
      "\n"
     ]
    },
    {
     "name": "stderr",
     "output_type": "stream",
     "text": [
      "\n",
      "Extracting Dataset Version Zip to Color-Analysis-1 in folder:: 100%|██████████| 66/66 [00:00<00:00, 1178.77it/s]\n"
     ]
    },
    {
     "data": {
      "text/plain": [
       "<roboflow.core.dataset.Dataset at 0x1b6fc163850>"
      ]
     },
     "execution_count": 53,
     "metadata": {},
     "output_type": "execute_result"
    }
   ],
   "source": [
    "rf.workspace(\"ash-l9xgp\").project(\"color-analysis-idaip\").version(1).download(\"folder\")"
   ]
  },
  {
   "cell_type": "code",
   "execution_count": 54,
   "metadata": {},
   "outputs": [
    {
     "name": "stderr",
     "output_type": "stream",
     "text": [
      "Cloning into 'personal_color'...\n"
     ]
    }
   ],
   "source": [
    "!git clone https://github.com/choijungah/personal_color.git"
   ]
  },
  {
   "cell_type": "code",
   "execution_count": 55,
   "metadata": {},
   "outputs": [],
   "source": [
    "os.rename(\"personal_color\", \"choijungahpersonal_color\")"
   ]
  },
  {
   "cell_type": "code",
   "execution_count": 56,
   "metadata": {},
   "outputs": [
    {
     "name": "stderr",
     "output_type": "stream",
     "text": [
      "Cloning into 'personal_color'...\n"
     ]
    }
   ],
   "source": [
    "!git clone https://github.com/two-two22/personal_color.git"
   ]
  },
  {
   "cell_type": "code",
   "execution_count": 57,
   "metadata": {},
   "outputs": [],
   "source": [
    "os.rename(\"personal_color\", \"two-two22personal_color\")"
   ]
  }
 ],
 "metadata": {
  "kernelspec": {
   "display_name": "Python 3",
   "language": "python",
   "name": "python3"
  },
  "language_info": {
   "codemirror_mode": {
    "name": "ipython",
    "version": 3
   },
   "file_extension": ".py",
   "mimetype": "text/x-python",
   "name": "python",
   "nbconvert_exporter": "python",
   "pygments_lexer": "ipython3",
   "version": "3.11.9"
  }
 },
 "nbformat": 4,
 "nbformat_minor": 2
}
